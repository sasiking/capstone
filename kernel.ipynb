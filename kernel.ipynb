{
  "cells": [
    {
      "metadata": {
        "_uuid": "8f2839f25d086af736a60e9eeb907d3b93b6e0e5",
        "_cell_guid": "b1076dfc-b9ad-4769-8c92-a6c4dae69d19",
        "trusted": true
      },
      "cell_type": "code",
      "source": "# This Python 3 environment comes with many helpful analytics libraries installed\n# It is defined by the kaggle/python docker image: https://github.com/kaggle/docker-python\n# For example, here's several helpful packages to load in \n\nimport numpy as np # linear algebra\nimport pandas as pd # data processing, CSV file I/O (e.g. pd.read_csv)\nimport matplotlib.pyplot as plt\n# Input data files are available in the \"../input/\" directory.\n# For example, running this (by clicking run or pressing Shift+Enter) will list the files in the input directory\n\nimport os\nprint(os.listdir(\"../input\"))\n\n# Any results you write to the current directory are saved as output.",
      "execution_count": 1,
      "outputs": [
        {
          "output_type": "stream",
          "text": "['all_stocks_5yr.csv', 'merge.sh', 'individual_stocks_5yr', 'getSandP.py']\n",
          "name": "stdout"
        }
      ]
    },
    {
      "metadata": {
        "_cell_guid": "79c7e3d0-c299-4dcb-8224-4455121ee9b0",
        "_uuid": "d629ff2d2480ee46fbb7e2d37f6b5fab8052498a",
        "trusted": true
      },
      "cell_type": "code",
      "source": "data = pd.read_csv('../input/all_stocks_5yr.csv')\ndata.head()",
      "execution_count": 2,
      "outputs": [
        {
          "output_type": "execute_result",
          "execution_count": 2,
          "data": {
            "text/plain": "         date   open   high    low  close    volume Name\n0  2013-02-08  15.07  15.12  14.63  14.75   8407500  AAL\n1  2013-02-11  14.89  15.01  14.26  14.46   8882000  AAL\n2  2013-02-12  14.45  14.51  14.10  14.27   8126000  AAL\n3  2013-02-13  14.30  14.94  14.25  14.66  10259500  AAL\n4  2013-02-14  14.94  14.96  13.16  13.99  31879900  AAL",
            "text/html": "<div>\n<style scoped>\n    .dataframe tbody tr th:only-of-type {\n        vertical-align: middle;\n    }\n\n    .dataframe tbody tr th {\n        vertical-align: top;\n    }\n\n    .dataframe thead th {\n        text-align: right;\n    }\n</style>\n<table border=\"1\" class=\"dataframe\">\n  <thead>\n    <tr style=\"text-align: right;\">\n      <th></th>\n      <th>date</th>\n      <th>open</th>\n      <th>high</th>\n      <th>low</th>\n      <th>close</th>\n      <th>volume</th>\n      <th>Name</th>\n    </tr>\n  </thead>\n  <tbody>\n    <tr>\n      <th>0</th>\n      <td>2013-02-08</td>\n      <td>15.07</td>\n      <td>15.12</td>\n      <td>14.63</td>\n      <td>14.75</td>\n      <td>8407500</td>\n      <td>AAL</td>\n    </tr>\n    <tr>\n      <th>1</th>\n      <td>2013-02-11</td>\n      <td>14.89</td>\n      <td>15.01</td>\n      <td>14.26</td>\n      <td>14.46</td>\n      <td>8882000</td>\n      <td>AAL</td>\n    </tr>\n    <tr>\n      <th>2</th>\n      <td>2013-02-12</td>\n      <td>14.45</td>\n      <td>14.51</td>\n      <td>14.10</td>\n      <td>14.27</td>\n      <td>8126000</td>\n      <td>AAL</td>\n    </tr>\n    <tr>\n      <th>3</th>\n      <td>2013-02-13</td>\n      <td>14.30</td>\n      <td>14.94</td>\n      <td>14.25</td>\n      <td>14.66</td>\n      <td>10259500</td>\n      <td>AAL</td>\n    </tr>\n    <tr>\n      <th>4</th>\n      <td>2013-02-14</td>\n      <td>14.94</td>\n      <td>14.96</td>\n      <td>13.16</td>\n      <td>13.99</td>\n      <td>31879900</td>\n      <td>AAL</td>\n    </tr>\n  </tbody>\n</table>\n</div>"
          },
          "metadata": {}
        }
      ]
    },
    {
      "metadata": {
        "trusted": true,
        "_uuid": "85c8deda7b8e3df62f03b30c191b56d89fa112ef"
      },
      "cell_type": "code",
      "source": "data.tail()",
      "execution_count": 3,
      "outputs": [
        {
          "output_type": "execute_result",
          "execution_count": 3,
          "data": {
            "text/plain": "              date   open   high    low  close   volume Name\n619035  2018-02-01  76.84  78.27  76.69  77.82  2982259  ZTS\n619036  2018-02-02  77.53  78.12  76.73  76.78  2595187  ZTS\n619037  2018-02-05  76.64  76.92  73.18  73.83  2962031  ZTS\n619038  2018-02-06  72.74  74.56  72.13  73.27  4924323  ZTS\n619039  2018-02-07  72.70  75.00  72.69  73.86  4534912  ZTS",
            "text/html": "<div>\n<style scoped>\n    .dataframe tbody tr th:only-of-type {\n        vertical-align: middle;\n    }\n\n    .dataframe tbody tr th {\n        vertical-align: top;\n    }\n\n    .dataframe thead th {\n        text-align: right;\n    }\n</style>\n<table border=\"1\" class=\"dataframe\">\n  <thead>\n    <tr style=\"text-align: right;\">\n      <th></th>\n      <th>date</th>\n      <th>open</th>\n      <th>high</th>\n      <th>low</th>\n      <th>close</th>\n      <th>volume</th>\n      <th>Name</th>\n    </tr>\n  </thead>\n  <tbody>\n    <tr>\n      <th>619035</th>\n      <td>2018-02-01</td>\n      <td>76.84</td>\n      <td>78.27</td>\n      <td>76.69</td>\n      <td>77.82</td>\n      <td>2982259</td>\n      <td>ZTS</td>\n    </tr>\n    <tr>\n      <th>619036</th>\n      <td>2018-02-02</td>\n      <td>77.53</td>\n      <td>78.12</td>\n      <td>76.73</td>\n      <td>76.78</td>\n      <td>2595187</td>\n      <td>ZTS</td>\n    </tr>\n    <tr>\n      <th>619037</th>\n      <td>2018-02-05</td>\n      <td>76.64</td>\n      <td>76.92</td>\n      <td>73.18</td>\n      <td>73.83</td>\n      <td>2962031</td>\n      <td>ZTS</td>\n    </tr>\n    <tr>\n      <th>619038</th>\n      <td>2018-02-06</td>\n      <td>72.74</td>\n      <td>74.56</td>\n      <td>72.13</td>\n      <td>73.27</td>\n      <td>4924323</td>\n      <td>ZTS</td>\n    </tr>\n    <tr>\n      <th>619039</th>\n      <td>2018-02-07</td>\n      <td>72.70</td>\n      <td>75.00</td>\n      <td>72.69</td>\n      <td>73.86</td>\n      <td>4534912</td>\n      <td>ZTS</td>\n    </tr>\n  </tbody>\n</table>\n</div>"
          },
          "metadata": {}
        }
      ]
    },
    {
      "metadata": {
        "trusted": true,
        "_uuid": "c2178ac2fdb49d8a0eb74bbce0ad0cf7d8ee76e2"
      },
      "cell_type": "code",
      "source": "data.nunique()",
      "execution_count": 25,
      "outputs": [
        {
          "output_type": "execute_result",
          "execution_count": 25,
          "data": {
            "text/plain": "date        1259\nopen       49715\nhigh       81499\nlow        82354\nclose      51151\nvolume    586441\nName         505\ndtype: int64"
          },
          "metadata": {}
        }
      ]
    },
    {
      "metadata": {
        "trusted": true,
        "_uuid": "be2695d72fef19b650fa5845aee3ca34d7c7594d"
      },
      "cell_type": "code",
      "source": "data[data.isnull().any(axis=1)]",
      "execution_count": 23,
      "outputs": [
        {
          "output_type": "execute_result",
          "execution_count": 23,
          "data": {
            "text/plain": "              date  open   high    low     close   volume  Name\n82949   2017-07-26   NaN    NaN    NaN   69.0842        3   BHF\n165734  2015-07-17   NaN  88.76  88.24   88.7200  2056819   DHR\n165857  2016-01-12   NaN    NaN    NaN   88.5500        0   DHR\n205076  2015-07-17   NaN  48.49  47.85   47.9200  1246786    ES\n239832  2016-07-01   NaN    NaN    NaN   49.5400        0   FTV\n434379  2015-07-17   NaN  47.31  46.83   46.9900  1229513     O\n434502  2016-01-12   NaN    NaN    NaN   52.4300        0     O\n478594  2015-06-09   NaN    NaN    NaN  526.0900    12135  REGN\n558213  2016-04-07   NaN    NaN    NaN   41.5600        0    UA\n581906  2015-05-12   NaN    NaN    NaN  124.0800   569747  VRTX\n598236  2015-06-26   NaN    NaN    NaN   61.9000      100   WRK",
            "text/html": "<div>\n<style scoped>\n    .dataframe tbody tr th:only-of-type {\n        vertical-align: middle;\n    }\n\n    .dataframe tbody tr th {\n        vertical-align: top;\n    }\n\n    .dataframe thead th {\n        text-align: right;\n    }\n</style>\n<table border=\"1\" class=\"dataframe\">\n  <thead>\n    <tr style=\"text-align: right;\">\n      <th></th>\n      <th>date</th>\n      <th>open</th>\n      <th>high</th>\n      <th>low</th>\n      <th>close</th>\n      <th>volume</th>\n      <th>Name</th>\n    </tr>\n  </thead>\n  <tbody>\n    <tr>\n      <th>82949</th>\n      <td>2017-07-26</td>\n      <td>NaN</td>\n      <td>NaN</td>\n      <td>NaN</td>\n      <td>69.0842</td>\n      <td>3</td>\n      <td>BHF</td>\n    </tr>\n    <tr>\n      <th>165734</th>\n      <td>2015-07-17</td>\n      <td>NaN</td>\n      <td>88.76</td>\n      <td>88.24</td>\n      <td>88.7200</td>\n      <td>2056819</td>\n      <td>DHR</td>\n    </tr>\n    <tr>\n      <th>165857</th>\n      <td>2016-01-12</td>\n      <td>NaN</td>\n      <td>NaN</td>\n      <td>NaN</td>\n      <td>88.5500</td>\n      <td>0</td>\n      <td>DHR</td>\n    </tr>\n    <tr>\n      <th>205076</th>\n      <td>2015-07-17</td>\n      <td>NaN</td>\n      <td>48.49</td>\n      <td>47.85</td>\n      <td>47.9200</td>\n      <td>1246786</td>\n      <td>ES</td>\n    </tr>\n    <tr>\n      <th>239832</th>\n      <td>2016-07-01</td>\n      <td>NaN</td>\n      <td>NaN</td>\n      <td>NaN</td>\n      <td>49.5400</td>\n      <td>0</td>\n      <td>FTV</td>\n    </tr>\n    <tr>\n      <th>434379</th>\n      <td>2015-07-17</td>\n      <td>NaN</td>\n      <td>47.31</td>\n      <td>46.83</td>\n      <td>46.9900</td>\n      <td>1229513</td>\n      <td>O</td>\n    </tr>\n    <tr>\n      <th>434502</th>\n      <td>2016-01-12</td>\n      <td>NaN</td>\n      <td>NaN</td>\n      <td>NaN</td>\n      <td>52.4300</td>\n      <td>0</td>\n      <td>O</td>\n    </tr>\n    <tr>\n      <th>478594</th>\n      <td>2015-06-09</td>\n      <td>NaN</td>\n      <td>NaN</td>\n      <td>NaN</td>\n      <td>526.0900</td>\n      <td>12135</td>\n      <td>REGN</td>\n    </tr>\n    <tr>\n      <th>558213</th>\n      <td>2016-04-07</td>\n      <td>NaN</td>\n      <td>NaN</td>\n      <td>NaN</td>\n      <td>41.5600</td>\n      <td>0</td>\n      <td>UA</td>\n    </tr>\n    <tr>\n      <th>581906</th>\n      <td>2015-05-12</td>\n      <td>NaN</td>\n      <td>NaN</td>\n      <td>NaN</td>\n      <td>124.0800</td>\n      <td>569747</td>\n      <td>VRTX</td>\n    </tr>\n    <tr>\n      <th>598236</th>\n      <td>2015-06-26</td>\n      <td>NaN</td>\n      <td>NaN</td>\n      <td>NaN</td>\n      <td>61.9000</td>\n      <td>100</td>\n      <td>WRK</td>\n    </tr>\n  </tbody>\n</table>\n</div>"
          },
          "metadata": {}
        }
      ]
    },
    {
      "metadata": {
        "trusted": true,
        "_uuid": "a55ff0a02d8ea27119b26742fccafc973db2285b"
      },
      "cell_type": "code",
      "source": "data.info()",
      "execution_count": 4,
      "outputs": [
        {
          "output_type": "stream",
          "text": "<class 'pandas.core.frame.DataFrame'>\nRangeIndex: 619040 entries, 0 to 619039\nData columns (total 7 columns):\ndate      619040 non-null object\nopen      619029 non-null float64\nhigh      619032 non-null float64\nlow       619032 non-null float64\nclose     619040 non-null float64\nvolume    619040 non-null int64\nName      619040 non-null object\ndtypes: float64(4), int64(1), object(2)\nmemory usage: 33.1+ MB\n",
          "name": "stdout"
        }
      ]
    },
    {
      "metadata": {
        "trusted": true,
        "_uuid": "8eab3bbd9a45e9dc718d2fe5faa93c9be68b9f9b"
      },
      "cell_type": "code",
      "source": "companies = data.Name.unique()\ncompanies",
      "execution_count": 5,
      "outputs": [
        {
          "output_type": "execute_result",
          "execution_count": 5,
          "data": {
            "text/plain": "array(['AAL', 'AAPL', 'AAP', 'ABBV', 'ABC', 'ABT', 'ACN', 'ADBE', 'ADI',\n       'ADM', 'ADP', 'ADSK', 'ADS', 'AEE', 'AEP', 'AES', 'AET', 'AFL',\n       'AGN', 'AIG', 'AIV', 'AIZ', 'AJG', 'AKAM', 'ALB', 'ALGN', 'ALK',\n       'ALLE', 'ALL', 'ALXN', 'AMAT', 'AMD', 'AME', 'AMGN', 'AMG', 'AMP',\n       'AMT', 'AMZN', 'ANDV', 'ANSS', 'ANTM', 'AON', 'AOS', 'APA', 'APC',\n       'APD', 'APH', 'APTV', 'ARE', 'ARNC', 'ATVI', 'AVB', 'AVGO', 'AVY',\n       'AWK', 'AXP', 'AYI', 'AZO', 'A', 'BAC', 'BAX', 'BA', 'BBT', 'BBY',\n       'BDX', 'BEN', 'BF.B', 'BHF', 'BHGE', 'BIIB', 'BK', 'BLK', 'BLL',\n       'BMY', 'BRK.B', 'BSX', 'BWA', 'BXP', 'CAG', 'CAH', 'CAT', 'CA',\n       'CBG', 'CBOE', 'CBS', 'CB', 'CCI', 'CCL', 'CDNS', 'CELG', 'CERN',\n       'CFG', 'CF', 'CHD', 'CHK', 'CHRW', 'CHTR', 'CINF', 'CI', 'CLX',\n       'CL', 'CMA', 'CMCSA', 'CME', 'CMG', 'CMI', 'CMS', 'CNC', 'CNP',\n       'COF', 'COG', 'COL', 'COO', 'COP', 'COST', 'COTY', 'CPB', 'CRM',\n       'CSCO', 'CSRA', 'CSX', 'CTAS', 'CTL', 'CTSH', 'CTXS', 'CVS', 'CVX',\n       'CXO', 'C', 'DAL', 'DE', 'DFS', 'DGX', 'DG', 'DHI', 'DHR', 'DISCA',\n       'DISCK', 'DISH', 'DIS', 'DLR', 'DLTR', 'DOV', 'DPS', 'DRE', 'DRI',\n       'DTE', 'DUK', 'DVA', 'DVN', 'DWDP', 'DXC', 'D', 'EA', 'EBAY',\n       'ECL', 'ED', 'EFX', 'EIX', 'EL', 'EMN', 'EMR', 'EOG', 'EQIX',\n       'EQR', 'EQT', 'ESRX', 'ESS', 'ES', 'ETFC', 'ETN', 'ETR', 'EVHC',\n       'EW', 'EXC', 'EXPD', 'EXPE', 'EXR', 'FAST', 'FBHS', 'FB', 'FCX',\n       'FDX', 'FE', 'FFIV', 'FISV', 'FIS', 'FITB', 'FLIR', 'FLR', 'FLS',\n       'FL', 'FMC', 'FOXA', 'FOX', 'FRT', 'FTI', 'FTV', 'F', 'GD', 'GE',\n       'GGP', 'GILD', 'GIS', 'GLW', 'GM', 'GOOGL', 'GOOG', 'GPC', 'GPN',\n       'GPS', 'GRMN', 'GS', 'GT', 'GWW', 'HAL', 'HAS', 'HBAN', 'HBI',\n       'HCA', 'HCN', 'HCP', 'HD', 'HES', 'HIG', 'HII', 'HLT', 'HOG',\n       'HOLX', 'HON', 'HPE', 'HPQ', 'HP', 'HRB', 'HRL', 'HRS', 'HSIC',\n       'HST', 'HSY', 'HUM', 'IBM', 'ICE', 'IDXX', 'IFF', 'ILMN', 'INCY',\n       'INFO', 'INTC', 'INTU', 'IPG', 'IP', 'IQV', 'IRM', 'IR', 'ISRG',\n       'ITW', 'IT', 'IVZ', 'JBHT', 'JCI', 'JEC', 'JNJ', 'JNPR', 'JPM',\n       'JWN', 'KEY', 'KHC', 'KIM', 'KLAC', 'KMB', 'KMI', 'KMX', 'KORS',\n       'KO', 'KR', 'KSS', 'KSU', 'K', 'LB', 'LEG', 'LEN', 'LH', 'LKQ',\n       'LLL', 'LLY', 'LMT', 'LNC', 'LNT', 'LOW', 'LRCX', 'LUK', 'LUV',\n       'LYB', 'L', 'MAA', 'MAC', 'MAR', 'MAS', 'MAT', 'MA', 'MCD', 'MCHP',\n       'MCK', 'MCO', 'MDLZ', 'MDT', 'MET', 'MGM', 'MHK', 'MKC', 'MLM',\n       'MMC', 'MMM', 'MNST', 'MON', 'MOS', 'MO', 'MPC', 'MRK', 'MRO',\n       'MSFT', 'MSI', 'MS', 'MTB', 'MTD', 'MU', 'MYL', 'M', 'NAVI', 'NBL',\n       'NCLH', 'NDAQ', 'NEE', 'NEM', 'NFLX', 'NFX', 'NI', 'NKE', 'NLSN',\n       'NOC', 'NOV', 'NRG', 'NSC', 'NTAP', 'NTRS', 'NUE', 'NVDA', 'NWL',\n       'NWSA', 'NWS', 'OKE', 'OMC', 'ORCL', 'ORLY', 'OXY', 'O', 'PAYX',\n       'PBCT', 'PCAR', 'PCG', 'PCLN', 'PDCO', 'PEG', 'PEP', 'PFE', 'PFG',\n       'PGR', 'PG', 'PHM', 'PH', 'PKG', 'PKI', 'PLD', 'PM', 'PNC', 'PNR',\n       'PNW', 'PPG', 'PPL', 'PRGO', 'PRU', 'PSA', 'PSX', 'PVH', 'PWR',\n       'PXD', 'PX', 'PYPL', 'QCOM', 'QRVO', 'RCL', 'REGN', 'REG', 'RE',\n       'RF', 'RHI', 'RHT', 'RJF', 'RL', 'RMD', 'ROK', 'ROP', 'ROST',\n       'RRC', 'RSG', 'RTN', 'SBAC', 'SBUX', 'SCG', 'SCHW', 'SEE', 'SHW',\n       'SIG', 'SJM', 'SLB', 'SLG', 'SNA', 'SNI', 'SNPS', 'SO', 'SPGI',\n       'SPG', 'SRCL', 'SRE', 'STI', 'STT', 'STX', 'STZ', 'SWKS', 'SWK',\n       'SYF', 'SYK', 'SYMC', 'SYY', 'TAP', 'TDG', 'TEL', 'TGT', 'TIF',\n       'TJX', 'TMK', 'TMO', 'TPR', 'TRIP', 'TROW', 'TRV', 'TSCO', 'TSN',\n       'TSS', 'TWX', 'TXN', 'TXT', 'T', 'UAA', 'UAL', 'UA', 'UDR', 'UHS',\n       'ULTA', 'UNH', 'UNM', 'UNP', 'UPS', 'URI', 'USB', 'UTX', 'VAR',\n       'VFC', 'VIAB', 'VLO', 'VMC', 'VNO', 'VRSK', 'VRSN', 'VRTX', 'VTR',\n       'VZ', 'V', 'WAT', 'WBA', 'WDC', 'WEC', 'WFC', 'WHR', 'WLTW', 'WMB',\n       'WMT', 'WM', 'WRK', 'WU', 'WYNN', 'WYN', 'WY', 'XEC', 'XEL',\n       'XLNX', 'XL', 'XOM', 'XRAY', 'XRX', 'XYL', 'YUM', 'ZBH', 'ZION',\n       'ZTS'], dtype=object)"
          },
          "metadata": {}
        }
      ]
    },
    {
      "metadata": {
        "_uuid": "232a5ff91db8dc207f2a90082ddbbfb41c6a75c1"
      },
      "cell_type": "markdown",
      "source": "## Data Exploration"
    },
    {
      "metadata": {
        "trusted": true,
        "_uuid": "d1f7b5aa392cc81ea18d2b0d11a501653244ab09"
      },
      "cell_type": "code",
      "source": "#preprocesing the data\ndata['date'] = pd.to_datetime(data.date,format='%Y-%m-%d')\ndata.index = data['date']\n                    \nfrom matplotlib.pylab import rcParams\nrcParams['figure.figsize'] = 20,10\n\nplt.figure(figsize=(16,8))\nplt.plot(data['close'], label='Close Price history');",
      "execution_count": null,
      "outputs": []
    },
    {
      "metadata": {
        "trusted": true,
        "_uuid": "b53f56a0697995964d47b6c7611cf294d78e9924"
      },
      "cell_type": "code",
      "source": "#Taking AAl data for predicting\ncl = data[data['Name']=='AAL'].close\n",
      "execution_count": 7,
      "outputs": []
    },
    {
      "metadata": {
        "trusted": true,
        "_uuid": "e55df67a9c901cf3d61355ebf1effd9b312e303b"
      },
      "cell_type": "code",
      "source": "plt.plot(cl)\nplt.xlabel('AAl Close price history',fontsize=15)\nplt.show();",
      "execution_count": 8,
      "outputs": [
        {
          "output_type": "display_data",
          "data": {
            "text/plain": "<Figure size 432x288 with 1 Axes>",
            "image/png": "[encoded data removed]"
          },
          "metadata": {}
        }
      ]
    },
    {
      "metadata": {
        "_uuid": "7d008d4792e1eb8e324d4f07081f436af9555105"
      },
      "cell_type": "markdown",
      "source": "## Scaling"
    },
    {
      "metadata": {
        "trusted": true,
        "_uuid": "3a424cf5b94ffa7cfe37f7a120a44f74e463adb9"
      },
      "cell_type": "code",
      "source": "from sklearn.preprocessing import MinMaxScaler",
      "execution_count": 9,
      "outputs": []
    },
    {
      "metadata": {
        "trusted": true,
        "_uuid": "1607f490883ec35f10a8b800232f68ed6cebc6f7"
      },
      "cell_type": "code",
      "source": "scl = MinMaxScaler()\ncl = np.array(cl, dtype=pd.Series)\ncl = cl.reshape(cl.shape[0],1)\ncl = scl.fit_transform(cl)\ncl",
      "execution_count": 10,
      "outputs": [
        {
          "output_type": "stream",
          "text": "/opt/conda/lib/python3.6/site-packages/sklearn/utils/validation.py:595: DataConversionWarning: Data with input dtype object was converted to float64 by MinMaxScaler.\n  warnings.warn(msg, DataConversionWarning)\n",
          "name": "stderr"
        },
        {
          "output_type": "execute_result",
          "execution_count": 10,
          "data": {
            "text/plain": "array([[0.03806381],\n       [0.03168317],\n       [0.02750275],\n       ...,\n       [0.80836084],\n       [0.83960396],\n       [0.84444444]])"
          },
          "metadata": {}
        }
      ]
    },
    {
      "metadata": {
        "_uuid": "0201fafd6a3f19b10fbf45d6168e751ba65057bb"
      },
      "cell_type": "markdown",
      "source": "## Splitting the data into training and testing"
    },
    {
      "metadata": {
        "trusted": true,
        "_uuid": "c2f8738dd4fbce760090263e4700ebf00dca3f06"
      },
      "cell_type": "code",
      "source": "def processData(data,lb):\n    X,Y = [],[]\n    for i in range(len(data)-lb-1):\n        X.append(data[i:(i+lb),0])\n        Y.append(data[(i+lb),0])\n    return np.array(X),np.array(Y)\nX,y = processData(cl,7)\nX_train,X_test = X[:int(X.shape[0]*0.80)],X[int(X.shape[0]*0.80):]\ny_train,y_test = y[:int(y.shape[0]*0.80)],y[int(y.shape[0]*0.80):]\nprint(X_train.shape[0])\nprint(X_test.shape[0])\nprint(y_train.shape[0])\nprint(y_test.shape[0])",
      "execution_count": 11,
      "outputs": [
        {
          "output_type": "stream",
          "text": "1000\n251\n1000\n251\n",
          "name": "stdout"
        }
      ]
    },
    {
      "metadata": {
        "_uuid": "057392bfa5eaf73e1d2017e8a27fb06d9d147f31"
      },
      "cell_type": "markdown",
      "source": "## Bench Mark Model"
    },
    {
      "metadata": {
        "trusted": true,
        "_uuid": "c6cbb421a0aacef1055f2b9eaf2102f1a0d48ba5"
      },
      "cell_type": "code",
      "source": "from sklearn.linear_model import LinearRegression\nreg = LinearRegression()\nreg = reg.fit(X_train.reshape(-1,1)[:1000],y_train)\n",
      "execution_count": 12,
      "outputs": []
    },
    {
      "metadata": {
        "trusted": true,
        "_uuid": "16fa8076660138b95ebd5ee96f76597e35128452"
      },
      "cell_type": "code",
      "source": "reg.predict(X_test.reshape(-1,1))",
      "execution_count": 13,
      "outputs": [
        {
          "output_type": "execute_result",
          "execution_count": 13,
          "data": {
            "text/plain": "array([3.12344046, 3.06316602, 3.04462003, ..., 3.95615511, 3.79109586,\n       3.57410785])"
          },
          "metadata": {}
        }
      ]
    },
    {
      "metadata": {
        "_uuid": "ca85643ca2d4042a8d373798e7dc470ddd3a9733"
      },
      "cell_type": "markdown",
      "source": "## Testing the score for the bench mark Model"
    },
    {
      "metadata": {
        "_uuid": "22d686c1419c739e6d5e9f3fdbc77acfc3868ada"
      },
      "cell_type": "markdown",
      "source": "We got the Score for The Bech Mark less than .50"
    },
    {
      "metadata": {
        "trusted": true,
        "_uuid": "3d5899ac65b42d28b58d83a16b5cae1e50049207"
      },
      "cell_type": "code",
      "source": "reg.score(X_train.reshape(-1,1)[:1000],y_train)",
      "execution_count": 14,
      "outputs": [
        {
          "output_type": "execute_result",
          "execution_count": 14,
          "data": {
            "text/plain": "0.3263637276714875"
          },
          "metadata": {}
        }
      ]
    },
    {
      "metadata": {
        "trusted": true,
        "_uuid": "336e918940630a401fae6a5bbe7ae20089838152"
      },
      "cell_type": "code",
      "source": "plt.scatter(X_train.reshape(-1,1)[:1000],y_train,label=\"Actual data\")\nplt.plot(X_train.reshape(-1,1)[:1000],reg.predict(X_train.reshape(-1,1)[:1000]),label='Regression Model')\nplt.legend()\nplt.show();",
      "execution_count": 16,
      "outputs": [
        {
          "output_type": "display_data",
          "data": {
            "text/plain": "<Figure size 432x288 with 1 Axes>",
            "image/png": "[encoded data removed]"
          },
          "metadata": {}
        }
      ]
    },
    {
      "metadata": {
        "_uuid": "046d7e2521676a58661a9d8fa31ddb3cfe2f9676"
      },
      "cell_type": "markdown",
      "source": "## Building the LSTM Model"
    },
    {
      "metadata": {
        "trusted": true,
        "scrolled": false,
        "_uuid": "52db51c79d220a2a3d5be3a464336f80ed8dec13"
      },
      "cell_type": "code",
      "source": "from keras.layers import Dense, Dropout, LSTM\nfrom keras.models import Sequential\n#Build the model\nmodel = Sequential()\nmodel.add(LSTM(256,input_shape=(7,1)))\nmodel.add(Dense(1))\nmodel.compile(optimizer='adam',loss='mse')\n#Reshape data for (Sample,Timestep,Features) \nX_train = X_train.reshape((X_train.shape[0],X_train.shape[1],1))\nX_test = X_test.reshape((X_test.shape[0],X_test.shape[1],1))\n",
      "execution_count": null,
      "outputs": []
    },
    {
      "metadata": {
        "_uuid": "223ceb9bfa2f44f0d2cb3fd2d835939dbd42162f"
      },
      "cell_type": "markdown",
      "source": "## Training the model with 300 epochs"
    },
    {
      "metadata": {
        "trusted": true,
        "_uuid": "9eb794918c550e7e14e28324fc51caa140d97f97"
      },
      "cell_type": "code",
      "source": "historyt = model.fit(X_train,y_train,epochs=300,validation_data=(X_test,y_test),shuffle=False)",
      "execution_count": null,
      "outputs": []
    },
    {
      "metadata": {
        "_uuid": "16183a61ea642aeb667bbbe53f1249190d291a8c"
      },
      "cell_type": "markdown",
      "source": "## Training the model with 500 epochs"
    },
    {
      "metadata": {
        "trusted": true,
        "_uuid": "3afc7728b27a50f3064ae33bfd294aea65422dd4"
      },
      "cell_type": "code",
      "source": "#Fit model with history to check for overfitting\nhistory = model.fit(X_train,y_train,epochs=500,validation_data=(X_test,y_test),shuffle=False)",
      "execution_count": null,
      "outputs": []
    },
    {
      "metadata": {
        "trusted": true,
        "_uuid": "c1d103b10ca5f00eb02c46f6eccb095dc5e15a0d"
      },
      "cell_type": "code",
      "source": "plt.plot(historyt.history['loss'],label='loss')\nplt.plot(historyt.history['val_loss'],label='val_loss')\nplt.xlabel('Epochs = 300',fontsize=20)\nplt.ylabel('loss',fontsize=20)\nplt.legend()\nplt.show()",
      "execution_count": null,
      "outputs": []
    },
    {
      "metadata": {
        "trusted": true,
        "_uuid": "e1fb3ed7ac2bfe02dba8f03c18c31285e3185001"
      },
      "cell_type": "code",
      "source": "plt.plot(history.history['loss'],label='loss')\nplt.plot(history.history['val_loss'],label='val_loss')\nplt.xlabel('Epochs = 500',fontsize=20)\nplt.ylabel('loss',fontsize=20)\nplt.legend()\nplt.show()",
      "execution_count": null,
      "outputs": []
    },
    {
      "metadata": {
        "_uuid": "c9bc0c83a2cd0984e7dd721998155249c9e50d1a"
      },
      "cell_type": "markdown",
      "source": "## Testing the model"
    },
    {
      "metadata": {
        "trusted": true,
        "_uuid": "ae5e6d759b92d267c672b2d8df3397ccb64270bb"
      },
      "cell_type": "code",
      "source": "Xt = model.predict(X_test)\nplt.plot(scl.inverse_transform(y_test.reshape(-1,1)),label='Actual')\nplt.plot(scl.inverse_transform(Xt),label='Predicted')\nplt.legend()\nplt.show();",
      "execution_count": null,
      "outputs": []
    },
    {
      "metadata": {
        "_uuid": "d2b5ce0179cd25c163ee723dceb976e44bb079fd"
      },
      "cell_type": "markdown",
      "source": "## Predicting for every Point in the test Data"
    },
    {
      "metadata": {
        "trusted": true,
        "_uuid": "a48e4eb0a143085cd11229c3c839def5c4e2f21c"
      },
      "cell_type": "code",
      "source": "act=[]\npred =[]\nfor i in range(len(X_test)):\n    Xt = model.predict(X_test[i].reshape(1,7,1))\n    print('predicted:{0}, actual:{1}'.format(scl.inverse_transform(Xt),scl.inverse_transform(y_test[i].reshape(-1,1))))\n    pred.append(scl.inverse_transform(Xt))\n    act.append(scl.inverse_transform(y_test[i].reshape(-1,1)))",
      "execution_count": null,
      "outputs": []
    },
    {
      "metadata": {
        "_uuid": "92b3646006f152738f19fe6e3a5f77832389dbb8"
      },
      "cell_type": "markdown",
      "source": "## Calculating Mean Square Error"
    },
    {
      "metadata": {
        "trusted": true,
        "_uuid": "13ce9b4176cfd9caa35d71c295d687bd767e339a"
      },
      "cell_type": "code",
      "source": "rms = 0\nfor i in range(len(pred)):\n    rms += np.power((act[i]-pred[i]),2)",
      "execution_count": null,
      "outputs": []
    },
    {
      "metadata": {
        "trusted": true,
        "_uuid": "19c6d9eab02aee5377b7559306aaf4145d0a7848"
      },
      "cell_type": "code",
      "source": "rmse = (rms/len(pred))**.5\nmse = rms/len(pred)\nprint('Root mean squared error =',rmse[0][0],'\\nMean Squared error =',mse[0][0])",
      "execution_count": null,
      "outputs": []
    },
    {
      "metadata": {
        "trusted": true,
        "_uuid": "46ba372d112ea596a252ebd8d1da1f6e344128c6"
      },
      "cell_type": "code",
      "source": "",
      "execution_count": null,
      "outputs": []
    }
  ],
  "metadata": {
    "kernelspec": {
      "display_name": "Python 3",
      "language": "python",
      "name": "python3"
    },
    "language_info": {
      "name": "python",
      "version": "3.6.6",
      "mimetype": "text/x-python",
      "codemirror_mode": {
        "name": "ipython",
        "version": 3
      },
      "pygments_lexer": "ipython3",
      "nbconvert_exporter": "python",
      "file_extension": ".py"
    }
  },
  "nbformat": 4,
  "nbformat_minor": 1
}